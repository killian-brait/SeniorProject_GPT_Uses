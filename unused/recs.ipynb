{
 "cells": [
  {
   "cell_type": "markdown",
   "metadata": {},
   "source": [
    "### Trees Recommendations Proposal\n",
    "\n",
    "#### 1. Introduction\n",
    "This proposal will suggest a clear, mathematical method for scoring and ranking plans for an individual based on their current goals/requirements to reach their potential. The method will be based on the following assumptions:\n",
    "\n",
    "- The individual has a set of goals/requirements that they want to achieve\n",
    "- The individual has a set of plans that they can choose from to achieve their goals/requirements\n",
    "- The individual has a set of attributes that can be used to evaluate them compared to other individuals\n",
    "- The plan has a set of attributes that can be used to evaluate it compared to other plans\n",
    "\n",
    "We will then implement a customizable method for combining these assumptions to generate a score for each plan for each individual. This score will be stored in the backend, in a user_plan_score array, which will be used to rank the plans for each individual, and a commonly hit endpoint will be created to return the top 5 plans for a given individual.\n",
    "\n",
    "#### 2. Method\n",
    "This section of the notebook will explore a potential method for scoring and ranking plans for each individual."
   ]
  },
  {
   "cell_type": "markdown",
   "metadata": {},
   "source": [
    "<hr>"
   ]
  },
  {
   "cell_type": "code",
   "execution_count": 1,
   "metadata": {
    "vscode": {
     "languageId": "shellscript"
    }
   },
   "outputs": [
    {
     "name": "stdout",
     "output_type": "stream",
     "text": [
      "Requirement already satisfied: psycopg2-binary in /Users/killianbrait/miniconda3/lib/python3.9/site-packages (2.9.6)\n",
      "Requirement already satisfied: sqlalchemy in /Users/killianbrait/miniconda3/lib/python3.9/site-packages (1.3.23)\n",
      "Requirement already satisfied: pandas in /Users/killianbrait/miniconda3/lib/python3.9/site-packages (1.4.3)\n",
      "Requirement already satisfied: numpy>=1.18.5 in /Users/killianbrait/miniconda3/lib/python3.9/site-packages (from pandas) (1.23.1)\n",
      "Requirement already satisfied: pytz>=2020.1 in /Users/killianbrait/miniconda3/lib/python3.9/site-packages (from pandas) (2022.6)\n",
      "Requirement already satisfied: python-dateutil>=2.8.1 in /Users/killianbrait/miniconda3/lib/python3.9/site-packages (from pandas) (2.8.2)\n",
      "Requirement already satisfied: six>=1.5 in /Users/killianbrait/miniconda3/lib/python3.9/site-packages (from python-dateutil>=2.8.1->pandas) (1.16.0)\n"
     ]
    }
   ],
   "source": [
    "!pip install psycopg2-binary sqlalchemy pandas"
   ]
  },
  {
   "cell_type": "code",
   "execution_count": 2,
   "metadata": {
    "vscode": {
     "languageId": "shellscript"
    }
   },
   "outputs": [
    {
     "name": "stdout",
     "output_type": "stream",
     "text": [
      "Requirement already satisfied: python-dotenv in /Users/killianbrait/miniconda3/lib/python3.9/site-packages (1.0.0)\n"
     ]
    }
   ],
   "source": [
    "!pip install python-dotenv"
   ]
  },
  {
   "cell_type": "code",
   "execution_count": 3,
   "metadata": {
    "vscode": {
     "languageId": "shellscript"
    }
   },
   "outputs": [
    {
     "name": "stdout",
     "output_type": "stream",
     "text": [
      "Requirement already satisfied: SQLAlchemy==1.3.23 in /Users/killianbrait/miniconda3/lib/python3.9/site-packages (1.3.23)\n"
     ]
    }
   ],
   "source": [
    "!pip install SQLAlchemy==1.3.23"
   ]
  },
  {
   "cell_type": "code",
   "execution_count": 23,
   "metadata": {
    "vscode": {
     "languageId": "shellscript"
    }
   },
   "outputs": [
    {
     "name": "stdout",
     "output_type": "stream",
     "text": [
      "Collecting ipywidgets\n",
      "  Downloading ipywidgets-8.1.0-py3-none-any.whl (139 kB)\n",
      "\u001b[K     |████████████████████████████████| 139 kB 3.2 MB/s eta 0:00:01\n",
      "\u001b[?25hRequirement already satisfied: ipython>=6.1.0 in /Users/killianbrait/miniconda3/lib/python3.9/site-packages (from ipywidgets) (8.14.0)\n",
      "Collecting jupyterlab-widgets~=3.0.7\n",
      "  Downloading jupyterlab_widgets-3.0.8-py3-none-any.whl (214 kB)\n",
      "\u001b[K     |████████████████████████████████| 214 kB 30.5 MB/s eta 0:00:01\n",
      "\u001b[?25hCollecting comm>=0.1.3\n",
      "  Downloading comm-0.1.4-py3-none-any.whl (6.6 kB)\n",
      "Collecting widgetsnbextension~=4.0.7\n",
      "  Downloading widgetsnbextension-4.0.8-py3-none-any.whl (2.3 MB)\n",
      "\u001b[K     |████████████████████████████████| 2.3 MB 52.4 MB/s eta 0:00:01\n",
      "\u001b[?25hRequirement already satisfied: traitlets>=4.3.1 in /Users/killianbrait/miniconda3/lib/python3.9/site-packages (from ipywidgets) (5.9.0)\n",
      "Requirement already satisfied: jedi>=0.16 in /Users/killianbrait/miniconda3/lib/python3.9/site-packages (from ipython>=6.1.0->ipywidgets) (0.18.2)\n",
      "Requirement already satisfied: prompt-toolkit!=3.0.37,<3.1.0,>=3.0.30 in /Users/killianbrait/miniconda3/lib/python3.9/site-packages (from ipython>=6.1.0->ipywidgets) (3.0.39)\n",
      "Requirement already satisfied: stack-data in /Users/killianbrait/miniconda3/lib/python3.9/site-packages (from ipython>=6.1.0->ipywidgets) (0.6.2)\n",
      "Requirement already satisfied: decorator in /Users/killianbrait/miniconda3/lib/python3.9/site-packages (from ipython>=6.1.0->ipywidgets) (5.1.1)\n",
      "Requirement already satisfied: appnope in /Users/killianbrait/miniconda3/lib/python3.9/site-packages (from ipython>=6.1.0->ipywidgets) (0.1.3)\n",
      "Requirement already satisfied: matplotlib-inline in /Users/killianbrait/miniconda3/lib/python3.9/site-packages (from ipython>=6.1.0->ipywidgets) (0.1.6)\n",
      "Requirement already satisfied: backcall in /Users/killianbrait/miniconda3/lib/python3.9/site-packages (from ipython>=6.1.0->ipywidgets) (0.2.0)\n",
      "Requirement already satisfied: pygments>=2.4.0 in /Users/killianbrait/miniconda3/lib/python3.9/site-packages (from ipython>=6.1.0->ipywidgets) (2.15.1)\n",
      "Requirement already satisfied: typing-extensions in /Users/killianbrait/miniconda3/lib/python3.9/site-packages (from ipython>=6.1.0->ipywidgets) (4.7.1)\n",
      "Requirement already satisfied: pickleshare in /Users/killianbrait/miniconda3/lib/python3.9/site-packages (from ipython>=6.1.0->ipywidgets) (0.7.5)\n",
      "Requirement already satisfied: pexpect>4.3 in /Users/killianbrait/miniconda3/lib/python3.9/site-packages (from ipython>=6.1.0->ipywidgets) (4.8.0)\n",
      "Requirement already satisfied: parso<0.9.0,>=0.8.0 in /Users/killianbrait/miniconda3/lib/python3.9/site-packages (from jedi>=0.16->ipython>=6.1.0->ipywidgets) (0.8.3)\n",
      "Requirement already satisfied: ptyprocess>=0.5 in /Users/killianbrait/miniconda3/lib/python3.9/site-packages (from pexpect>4.3->ipython>=6.1.0->ipywidgets) (0.7.0)\n",
      "Requirement already satisfied: wcwidth in /Users/killianbrait/miniconda3/lib/python3.9/site-packages (from prompt-toolkit!=3.0.37,<3.1.0,>=3.0.30->ipython>=6.1.0->ipywidgets) (0.2.6)\n",
      "Requirement already satisfied: pure-eval in /Users/killianbrait/miniconda3/lib/python3.9/site-packages (from stack-data->ipython>=6.1.0->ipywidgets) (0.2.2)\n",
      "Requirement already satisfied: executing>=1.2.0 in /Users/killianbrait/miniconda3/lib/python3.9/site-packages (from stack-data->ipython>=6.1.0->ipywidgets) (1.2.0)\n",
      "Requirement already satisfied: asttokens>=2.1.0 in /Users/killianbrait/miniconda3/lib/python3.9/site-packages (from stack-data->ipython>=6.1.0->ipywidgets) (2.2.1)\n",
      "Requirement already satisfied: six in /Users/killianbrait/miniconda3/lib/python3.9/site-packages (from asttokens>=2.1.0->stack-data->ipython>=6.1.0->ipywidgets) (1.16.0)\n",
      "Installing collected packages: widgetsnbextension, jupyterlab-widgets, comm, ipywidgets\n",
      "Successfully installed comm-0.1.4 ipywidgets-8.1.0 jupyterlab-widgets-3.0.8 widgetsnbextension-4.0.8\n"
     ]
    }
   ],
   "source": [
    "!pip install ipywidgets"
   ]
  },
  {
   "cell_type": "code",
   "execution_count": 21,
   "metadata": {},
   "outputs": [
    {
     "name": "stdout",
     "output_type": "stream",
     "text": [
      "Schema:  information_schema\n",
      "Table:  sql_packages\n",
      "Table:  sql_features\n",
      "Table:  sql_implementation_info\n",
      "Table:  sql_parts\n",
      "Table:  sql_languages\n",
      "Table:  sql_sizing\n",
      "Table:  sql_sizing_profiles\n",
      "\n",
      "\n",
      "Schema:  public\n",
      "Table:  django_migrations\n",
      "Table:  django_content_type\n",
      "Table:  auth_permission\n",
      "Table:  auth_group\n",
      "Table:  auth_group_permissions\n",
      "Table:  account_user\n",
      "Table:  account_user_groups\n",
      "Table:  account_user_user_permissions\n",
      "Table:  account_passwordresettoken\n",
      "Table:  account_verifyemailtoken\n",
      "Table:  django_admin_log\n",
      "Table:  feedback_feedback\n",
      "Table:  path_path\n",
      "Table:  path_pathstep\n",
      "Table:  path_pathdetail\n",
      "Table:  path_userpathstate\n",
      "Table:  path_pathstepdetail\n",
      "Table:  path_university\n",
      "Table:  path_userpathscore\n",
      "Table:  path_userpathinteraction\n",
      "Table:  path_pathcategory\n",
      "Table:  path_pathstepcomplete\n",
      "Table:  path_userpathfeedback\n",
      "Table:  path_userpathstepfeedback\n",
      "Table:  questionnaire_question\n",
      "Table:  questionnaire_availableanswer\n",
      "Table:  questionnaire_questioncategory\n",
      "Table:  questionnaire_questionlabel\n",
      "Table:  questionnaire_questioncondition\n",
      "Table:  questionnaire_useranswer_multiple_answers\n",
      "Table:  questionnaire_textsuggestion\n",
      "Table:  questionnaire_slideranswer\n",
      "Table:  questionnaire_useranswer\n",
      "Table:  questionnaire_question_show_answer\n",
      "Table:  questionnaire_sliderdisplayedtext\n",
      "Table:  django_session\n",
      "Table:  path_path_path_to_university\n",
      "Table:  path_pathcategory_categoryToUniversity\n",
      "Table:  path_pathmedia\n",
      "Table:  questionnaire_pathexclusion\n",
      "Table:  questionnaire_pathfilter\n",
      "Table:  path_path_path_to_category\n",
      "Table:  questionnaire_question_question_to_university\n",
      "Table:  account_emailallowedtoregister\n",
      "Table:  path_filemodel\n",
      "Table:  account_usersession\n",
      "Table:  path_status\n",
      "Table:  path_viewedplans\n",
      "Table:  organization_admin_questiongroup_questions\n",
      "Table:  organization_admin_questiongroup_assigned_to_user\n",
      "Table:  path_plansnotification\n",
      "Table:  questionnaire_questionnotification\n",
      "Table:  organization_admin_questiongroup\n",
      "\n",
      "\n"
     ]
    }
   ],
   "source": [
    "## Let's import the data and take a look at it\n",
    "import psycopg2\n",
    "import pandas as pd\n",
    "import sqlalchemy\n",
    "from dotenv import load_dotenv\n",
    "import os\n",
    "\n",
    "inspect = sqlalchemy.inspect\n",
    "\n",
    "dotenv_path = 'envs/prod.env'  # replace with the path to your .env file\n",
    "load_dotenv(dotenv_path=dotenv_path) # may need (\"\" , override=True)\n",
    "\n",
    "user = os.getenv(\"DB_USER\")\n",
    "password = os.getenv(\"DB_PASS\")\n",
    "host = os.getenv(\"DB_HOST\")\n",
    "dbname = os.getenv(\"DB_NAME\")\n",
    "\n",
    "db = sqlalchemy.create_engine(f'postgresql+psycopg2://{user}:{password}@{host}/{dbname}')\n",
    "\n",
    "inspector = inspect(db)\n",
    "\n",
    "# Get all schemas\n",
    "schemas = inspector.get_schema_names()\n",
    "\n",
    "for schema in schemas:\n",
    "    print(\"Schema: \", schema)\n",
    "    for table_name in inspector.get_table_names(schema=schema):\n",
    "        print(\"Table: \", table_name)\n",
    "    print(\"\\n\")"
   ]
  },
  {
   "cell_type": "code",
   "execution_count": 26,
   "metadata": {},
   "outputs": [],
   "source": [
    "# Establish a connection to the database\n",
    "connection = db.connect()\n",
    "\n",
    "# Function to check if user has SELECT permission on a table\n",
    "def user_has_select_permission(user, schema, table):\n",
    "    query = f\"\"\"\n",
    "    SELECT has_table_privilege('{user}', '{schema}.{table}', 'SELECT');\n",
    "    \"\"\"\n",
    "    result = connection.execute(query).scalar()\n",
    "    return result\n",
    "\n",
    "# Function to grant SELECT permission to user on a table\n",
    "def grant_select_permission(user, schema, table):\n",
    "    query = f\"\"\"\n",
    "    GRANT SELECT ON {schema}.{table} TO {user};\n",
    "    \"\"\"\n",
    "    connection.execute(query)"
   ]
  },
  {
   "cell_type": "code",
   "execution_count": 39,
   "metadata": {},
   "outputs": [
    {
     "data": {
      "application/vnd.jupyter.widget-view+json": {
       "model_id": "cb058cdf4ee748f69e207e10a7ede46c",
       "version_major": 2,
       "version_minor": 0
      },
      "text/plain": [
       "SelectMultiple(description='Tables:', options=('information_schema.sql_packages', 'information_schema.sql_feat…"
      ]
     },
     "metadata": {},
     "output_type": "display_data"
    },
    {
     "data": {
      "application/vnd.jupyter.widget-view+json": {
       "model_id": "4fef4dced968417f97f260a2e19898fe",
       "version_major": 2,
       "version_minor": 0
      },
      "text/plain": [
       "Button(description='Confirm Selection', style=ButtonStyle())"
      ]
     },
     "metadata": {},
     "output_type": "display_data"
    },
    {
     "data": {
      "application/vnd.jupyter.widget-view+json": {
       "model_id": "ea5f046847d04f4b8e8c65fb7b84fcd0",
       "version_major": 2,
       "version_minor": 0
      },
      "text/plain": [
       "Output()"
      ]
     },
     "metadata": {},
     "output_type": "display_data"
    }
   ],
   "source": [
    "import ipywidgets as widgets\n",
    "from IPython.display import display\n",
    "\n",
    "# Get all tables in the database\n",
    "all_tables = []\n",
    "for schema in schemas:\n",
    "    for table_name in inspector.get_table_names(schema=schema):\n",
    "        all_tables.append(f\"{schema}.{table_name}\")\n",
    "\n",
    "# Create a multi-select widget for tables\n",
    "table_selector = widgets.SelectMultiple(\n",
    "    options=all_tables,\n",
    "    description='Tables:',\n",
    "    disabled=False\n",
    ")\n",
    "\n",
    "selected_tables = []\n",
    "\n",
    "def confirm_selection(button):\n",
    "    global selected_tables\n",
    "    selected_tables = list(table_selector.value)\n",
    "    output_area.clear_output(wait=True)\n",
    "    with output_area:\n",
    "        print(f\"Selected tables: {', '.join(selected_tables)}\")\n",
    "\n",
    "# Create an output area to display the selected tables\n",
    "output_area = widgets.Output()\n",
    "\n",
    "# Create a \"Confirm Selection\" button and assign the action\n",
    "confirm_button = widgets.Button(description=\"Confirm Selection\")\n",
    "confirm_button.on_click(confirm_selection)\n",
    "\n",
    "# Display the table selector, the confirm button, and the output area\n",
    "display(table_selector, confirm_button, output_area)\n",
    "\n"
   ]
  },
  {
   "cell_type": "code",
   "execution_count": null,
   "metadata": {},
   "outputs": [
    {
     "data": {
      "text/html": [],
      "text/plain": [
       "<IPython.core.display.HTML object>"
      ]
     },
     "metadata": {},
     "output_type": "display_data"
    },
    {
     "data": {
      "application/vnd.jupyter.widget-view+json": {
       "model_id": "ec57d418846e4249a31a4670f9cf05aa",
       "version_major": 2,
       "version_minor": 0
      },
      "text/plain": [
       "Button(description='Grant Permissions', style=ButtonStyle())"
      ]
     },
     "metadata": {},
     "output_type": "display_data"
    },
    {
     "data": {
      "application/vnd.jupyter.widget-view+json": {
       "model_id": "88a2b2b2e2b444c1be4080aa460ccaf1",
       "version_major": 2,
       "version_minor": 0
      },
      "text/plain": [
       "Button(description='Revoke Permissions', style=ButtonStyle())"
      ]
     },
     "metadata": {},
     "output_type": "display_data"
    }
   ],
   "source": [
    "from IPython.display import display, HTML, clear_output\n",
    "\n",
    "# Define the action for the Grant button\n",
    "def grant_permissions(button):\n",
    "    clear_output(wait=True)\n",
    "    messages = []\n",
    "    for table in selected_tables:\n",
    "        grant_select_permission(user, *table.split('.'))\n",
    "        messages.append(f\"Granted SELECT permission on {table}\")\n",
    "    \n",
    "    display(HTML('<br>'.join(messages)))\n",
    "    display(grant_button, revoke_button)\n",
    "\n",
    "# Define the action for the Revoke button\n",
    "def revoke_permissions(button):\n",
    "    clear_output(wait=True)\n",
    "    selected_tables = table_selector.value\n",
    "    messages = []\n",
    "    # for table in selected_tables:\n",
    "        # revoke_select_permission(user, table)\n",
    "        # messages.append(f\"Revoked SELECT permission on {table}\")\n",
    "    \n",
    "    # display(HTML('<br>'.join(messages)))\n",
    "    display(grant_button, revoke_button)\n",
    "\n",
    "# Create the Grant and Revoke buttons\n",
    "grant_button = widgets.Button(description=\"Grant Permissions\")\n",
    "revoke_button = widgets.Button(description=\"Revoke Permissions\")\n",
    "\n",
    "# Assign the actions to the buttons\n",
    "grant_button.on_click(grant_permissions)\n",
    "revoke_button.on_click(revoke_permissions)\n",
    "\n",
    "# Display the buttons\n",
    "display(grant_button, revoke_button)"
   ]
  },
  {
   "cell_type": "code",
   "execution_count": 38,
   "metadata": {},
   "outputs": [
    {
     "name": "stdout",
     "output_type": "stream",
     "text": [
      "No tables selected.\n"
     ]
    }
   ],
   "source": [
    "# Test SELECT statement on all selected tables\n",
    "if not selected_tables:\n",
    "    print(\"No tables selected.\")\n",
    "else:\n",
    "    print(f\"Attempting to query the following tables: {', '.join(selected_tables)}\")\n",
    "\n",
    "    for table in selected_tables:\n",
    "        try:\n",
    "            query = f\"SELECT * FROM {table} LIMIT 5\"\n",
    "            result = pd.read_sql(query, db)\n",
    "            if result.empty:\n",
    "                print(f\"Table {table} is empty.\")\n",
    "            else:\n",
    "                print(f\"First 5 rows from {table}:\")\n",
    "                display(result)\n",
    "        except Exception as e:\n",
    "            print(f\"Error querying table {table}: {e}\")\n"
   ]
  },
  {
   "cell_type": "code",
   "execution_count": 29,
   "metadata": {},
   "outputs": [
    {
     "name": "stdout",
     "output_type": "stream",
     "text": [
      "Error accessing table django_migrations: (psycopg2.errors.InsufficientPrivilege) permission denied for table django_migrations\n",
      "\n",
      "[SQL: SELECT * FROM \"django_migrations\"]\n",
      "(Background on this error at: http://sqlalche.me/e/13/f405)\n",
      "Error accessing table django_content_type: (psycopg2.errors.InsufficientPrivilege) permission denied for table django_content_type\n",
      "\n",
      "[SQL: SELECT * FROM \"django_content_type\"]\n",
      "(Background on this error at: http://sqlalche.me/e/13/f405)\n",
      "Error accessing table auth_permission: (psycopg2.errors.InsufficientPrivilege) permission denied for table auth_permission\n",
      "\n",
      "[SQL: SELECT * FROM \"auth_permission\"]\n",
      "(Background on this error at: http://sqlalche.me/e/13/f405)\n",
      "Error accessing table auth_group: (psycopg2.errors.InsufficientPrivilege) permission denied for table auth_group\n",
      "\n",
      "[SQL: SELECT * FROM \"auth_group\"]\n",
      "(Background on this error at: http://sqlalche.me/e/13/f405)\n",
      "Error accessing table auth_group_permissions: (psycopg2.errors.InsufficientPrivilege) permission denied for table auth_group_permissions\n",
      "\n",
      "[SQL: SELECT * FROM \"auth_group_permissions\"]\n",
      "(Background on this error at: http://sqlalche.me/e/13/f405)\n",
      "Error accessing table account_user: (psycopg2.errors.InsufficientPrivilege) permission denied for table account_user\n",
      "\n",
      "[SQL: SELECT * FROM \"account_user\"]\n",
      "(Background on this error at: http://sqlalche.me/e/13/f405)\n",
      "Error accessing table account_user_groups: (psycopg2.errors.InsufficientPrivilege) permission denied for table account_user_groups\n",
      "\n",
      "[SQL: SELECT * FROM \"account_user_groups\"]\n",
      "(Background on this error at: http://sqlalche.me/e/13/f405)\n",
      "Error accessing table account_user_user_permissions: (psycopg2.errors.InsufficientPrivilege) permission denied for table account_user_user_permissions\n",
      "\n",
      "[SQL: SELECT * FROM \"account_user_user_permissions\"]\n",
      "(Background on this error at: http://sqlalche.me/e/13/f405)\n",
      "Error accessing table account_passwordresettoken: (psycopg2.errors.InsufficientPrivilege) permission denied for table account_passwordresettoken\n",
      "\n",
      "[SQL: SELECT * FROM \"account_passwordresettoken\"]\n",
      "(Background on this error at: http://sqlalche.me/e/13/f405)\n",
      "Error accessing table account_verifyemailtoken: (psycopg2.errors.InsufficientPrivilege) permission denied for table account_verifyemailtoken\n",
      "\n",
      "[SQL: SELECT * FROM \"account_verifyemailtoken\"]\n",
      "(Background on this error at: http://sqlalche.me/e/13/f405)\n",
      "Error accessing table django_admin_log: (psycopg2.errors.InsufficientPrivilege) permission denied for table django_admin_log\n",
      "\n",
      "[SQL: SELECT * FROM \"django_admin_log\"]\n",
      "(Background on this error at: http://sqlalche.me/e/13/f405)\n",
      "Error accessing table feedback_feedback: (psycopg2.errors.InsufficientPrivilege) permission denied for table feedback_feedback\n",
      "\n",
      "[SQL: SELECT * FROM \"feedback_feedback\"]\n",
      "(Background on this error at: http://sqlalche.me/e/13/f405)\n",
      "Error accessing table path_path: (psycopg2.errors.InsufficientPrivilege) permission denied for table path_path\n",
      "\n",
      "[SQL: SELECT * FROM \"path_path\"]\n",
      "(Background on this error at: http://sqlalche.me/e/13/f405)\n",
      "Error accessing table path_pathstep: (psycopg2.errors.InsufficientPrivilege) permission denied for table path_pathstep\n",
      "\n",
      "[SQL: SELECT * FROM \"path_pathstep\"]\n",
      "(Background on this error at: http://sqlalche.me/e/13/f405)\n",
      "Error accessing table path_pathdetail: (psycopg2.errors.InsufficientPrivilege) permission denied for table path_pathdetail\n",
      "\n",
      "[SQL: SELECT * FROM \"path_pathdetail\"]\n",
      "(Background on this error at: http://sqlalche.me/e/13/f405)\n",
      "Error accessing table path_userpathstate: (psycopg2.errors.InsufficientPrivilege) permission denied for table path_userpathstate\n",
      "\n",
      "[SQL: SELECT * FROM \"path_userpathstate\"]\n",
      "(Background on this error at: http://sqlalche.me/e/13/f405)\n",
      "Error accessing table path_pathstepdetail: (psycopg2.errors.InsufficientPrivilege) permission denied for table path_pathstepdetail\n",
      "\n",
      "[SQL: SELECT * FROM \"path_pathstepdetail\"]\n",
      "(Background on this error at: http://sqlalche.me/e/13/f405)\n",
      "Error accessing table path_university: (psycopg2.errors.InsufficientPrivilege) permission denied for table path_university\n",
      "\n",
      "[SQL: SELECT * FROM \"path_university\"]\n",
      "(Background on this error at: http://sqlalche.me/e/13/f405)\n",
      "Error accessing table path_userpathscore: (psycopg2.errors.InsufficientPrivilege) permission denied for table path_userpathscore\n",
      "\n",
      "[SQL: SELECT * FROM \"path_userpathscore\"]\n",
      "(Background on this error at: http://sqlalche.me/e/13/f405)\n",
      "Error accessing table path_userpathinteraction: (psycopg2.errors.InsufficientPrivilege) permission denied for table path_userpathinteraction\n",
      "\n",
      "[SQL: SELECT * FROM \"path_userpathinteraction\"]\n",
      "(Background on this error at: http://sqlalche.me/e/13/f405)\n",
      "Error accessing table path_pathcategory: (psycopg2.errors.InsufficientPrivilege) permission denied for table path_pathcategory\n",
      "\n",
      "[SQL: SELECT * FROM \"path_pathcategory\"]\n",
      "(Background on this error at: http://sqlalche.me/e/13/f405)\n",
      "Error accessing table path_pathstepcomplete: (psycopg2.errors.InsufficientPrivilege) permission denied for table path_pathstepcomplete\n",
      "\n",
      "[SQL: SELECT * FROM \"path_pathstepcomplete\"]\n",
      "(Background on this error at: http://sqlalche.me/e/13/f405)\n",
      "Error accessing table path_userpathfeedback: (psycopg2.errors.InsufficientPrivilege) permission denied for table path_userpathfeedback\n",
      "\n",
      "[SQL: SELECT * FROM \"path_userpathfeedback\"]\n",
      "(Background on this error at: http://sqlalche.me/e/13/f405)\n",
      "Error accessing table path_userpathstepfeedback: (psycopg2.errors.InsufficientPrivilege) permission denied for table path_userpathstepfeedback\n",
      "\n",
      "[SQL: SELECT * FROM \"path_userpathstepfeedback\"]\n",
      "(Background on this error at: http://sqlalche.me/e/13/f405)\n",
      "Error accessing table questionnaire_question: (psycopg2.errors.InsufficientPrivilege) permission denied for table questionnaire_question\n",
      "\n",
      "[SQL: SELECT * FROM \"questionnaire_question\"]\n",
      "(Background on this error at: http://sqlalche.me/e/13/f405)\n",
      "Error accessing table questionnaire_availableanswer: (psycopg2.errors.InsufficientPrivilege) permission denied for table questionnaire_availableanswer\n",
      "\n",
      "[SQL: SELECT * FROM \"questionnaire_availableanswer\"]\n",
      "(Background on this error at: http://sqlalche.me/e/13/f405)\n",
      "Error accessing table questionnaire_questioncategory: (psycopg2.errors.InsufficientPrivilege) permission denied for table questionnaire_questioncategory\n",
      "\n",
      "[SQL: SELECT * FROM \"questionnaire_questioncategory\"]\n",
      "(Background on this error at: http://sqlalche.me/e/13/f405)\n",
      "Error accessing table questionnaire_questionlabel: (psycopg2.errors.InsufficientPrivilege) permission denied for table questionnaire_questionlabel\n",
      "\n",
      "[SQL: SELECT * FROM \"questionnaire_questionlabel\"]\n",
      "(Background on this error at: http://sqlalche.me/e/13/f405)\n",
      "Error accessing table questionnaire_questioncondition: (psycopg2.errors.InsufficientPrivilege) permission denied for table questionnaire_questioncondition\n",
      "\n",
      "[SQL: SELECT * FROM \"questionnaire_questioncondition\"]\n",
      "(Background on this error at: http://sqlalche.me/e/13/f405)\n",
      "Error accessing table questionnaire_useranswer_multiple_answers: (psycopg2.errors.InsufficientPrivilege) permission denied for table questionnaire_useranswer_multiple_answers\n",
      "\n",
      "[SQL: SELECT * FROM \"questionnaire_useranswer_multiple_answers\"]\n",
      "(Background on this error at: http://sqlalche.me/e/13/f405)\n",
      "Error accessing table questionnaire_textsuggestion: (psycopg2.errors.InsufficientPrivilege) permission denied for table questionnaire_textsuggestion\n",
      "\n",
      "[SQL: SELECT * FROM \"questionnaire_textsuggestion\"]\n",
      "(Background on this error at: http://sqlalche.me/e/13/f405)\n",
      "Error accessing table questionnaire_slideranswer: (psycopg2.errors.InsufficientPrivilege) permission denied for table questionnaire_slideranswer\n",
      "\n",
      "[SQL: SELECT * FROM \"questionnaire_slideranswer\"]\n",
      "(Background on this error at: http://sqlalche.me/e/13/f405)\n",
      "Error accessing table questionnaire_useranswer: (psycopg2.errors.InsufficientPrivilege) permission denied for table questionnaire_useranswer\n",
      "\n",
      "[SQL: SELECT * FROM \"questionnaire_useranswer\"]\n",
      "(Background on this error at: http://sqlalche.me/e/13/f405)\n",
      "Error accessing table questionnaire_question_show_answer: (psycopg2.errors.InsufficientPrivilege) permission denied for table questionnaire_question_show_answer\n",
      "\n",
      "[SQL: SELECT * FROM \"questionnaire_question_show_answer\"]\n",
      "(Background on this error at: http://sqlalche.me/e/13/f405)\n",
      "Error accessing table questionnaire_sliderdisplayedtext: (psycopg2.errors.InsufficientPrivilege) permission denied for table questionnaire_sliderdisplayedtext\n",
      "\n",
      "[SQL: SELECT * FROM \"questionnaire_sliderdisplayedtext\"]\n",
      "(Background on this error at: http://sqlalche.me/e/13/f405)\n",
      "Error accessing table django_session: (psycopg2.errors.InsufficientPrivilege) permission denied for table django_session\n",
      "\n",
      "[SQL: SELECT * FROM \"django_session\"]\n",
      "(Background on this error at: http://sqlalche.me/e/13/f405)\n",
      "Error accessing table path_path_path_to_university: (psycopg2.errors.InsufficientPrivilege) permission denied for table path_path_path_to_university\n",
      "\n",
      "[SQL: SELECT * FROM \"path_path_path_to_university\"]\n",
      "(Background on this error at: http://sqlalche.me/e/13/f405)\n",
      "Error accessing table path_pathcategory_categoryToUniversity: (psycopg2.errors.InsufficientPrivilege) permission denied for table path_pathcategory_categoryToUniversity\n",
      "\n",
      "[SQL: SELECT * FROM \"path_pathcategory_categoryToUniversity\"]\n",
      "(Background on this error at: http://sqlalche.me/e/13/f405)\n",
      "Error accessing table path_pathmedia: (psycopg2.errors.InsufficientPrivilege) permission denied for table path_pathmedia\n",
      "\n",
      "[SQL: SELECT * FROM \"path_pathmedia\"]\n",
      "(Background on this error at: http://sqlalche.me/e/13/f405)\n",
      "Error accessing table questionnaire_pathexclusion: (psycopg2.errors.InsufficientPrivilege) permission denied for table questionnaire_pathexclusion\n",
      "\n",
      "[SQL: SELECT * FROM \"questionnaire_pathexclusion\"]\n",
      "(Background on this error at: http://sqlalche.me/e/13/f405)\n",
      "Error accessing table questionnaire_pathfilter: (psycopg2.errors.InsufficientPrivilege) permission denied for table questionnaire_pathfilter\n",
      "\n",
      "[SQL: SELECT * FROM \"questionnaire_pathfilter\"]\n",
      "(Background on this error at: http://sqlalche.me/e/13/f405)\n",
      "Error accessing table path_path_path_to_category: (psycopg2.errors.InsufficientPrivilege) permission denied for table path_path_path_to_category\n",
      "\n",
      "[SQL: SELECT * FROM \"path_path_path_to_category\"]\n",
      "(Background on this error at: http://sqlalche.me/e/13/f405)\n",
      "Error accessing table questionnaire_question_question_to_university: (psycopg2.errors.InsufficientPrivilege) permission denied for table questionnaire_question_question_to_university\n",
      "\n",
      "[SQL: SELECT * FROM \"questionnaire_question_question_to_university\"]\n",
      "(Background on this error at: http://sqlalche.me/e/13/f405)\n",
      "Error accessing table account_emailallowedtoregister: (psycopg2.errors.InsufficientPrivilege) permission denied for table account_emailallowedtoregister\n",
      "\n",
      "[SQL: SELECT * FROM \"account_emailallowedtoregister\"]\n",
      "(Background on this error at: http://sqlalche.me/e/13/f405)\n",
      "Error accessing table path_filemodel: (psycopg2.errors.InsufficientPrivilege) permission denied for table path_filemodel\n",
      "\n",
      "[SQL: SELECT * FROM \"path_filemodel\"]\n",
      "(Background on this error at: http://sqlalche.me/e/13/f405)\n",
      "Error accessing table account_usersession: (psycopg2.errors.InsufficientPrivilege) permission denied for table account_usersession\n",
      "\n",
      "[SQL: SELECT * FROM \"account_usersession\"]\n",
      "(Background on this error at: http://sqlalche.me/e/13/f405)\n",
      "Error accessing table path_status: (psycopg2.errors.InsufficientPrivilege) permission denied for table path_status\n",
      "\n",
      "[SQL: SELECT * FROM \"path_status\"]\n",
      "(Background on this error at: http://sqlalche.me/e/13/f405)\n",
      "Error accessing table path_viewedplans: (psycopg2.errors.InsufficientPrivilege) permission denied for table path_viewedplans\n",
      "\n",
      "[SQL: SELECT * FROM \"path_viewedplans\"]\n",
      "(Background on this error at: http://sqlalche.me/e/13/f405)\n",
      "Error accessing table organization_admin_questiongroup_questions: (psycopg2.errors.InsufficientPrivilege) permission denied for table organization_admin_questiongroup_questions\n",
      "\n",
      "[SQL: SELECT * FROM \"organization_admin_questiongroup_questions\"]\n",
      "(Background on this error at: http://sqlalche.me/e/13/f405)\n",
      "Error accessing table organization_admin_questiongroup_assigned_to_user: (psycopg2.errors.InsufficientPrivilege) permission denied for table organization_admin_questiongroup_assigned_to_user\n",
      "\n",
      "[SQL: SELECT * FROM \"organization_admin_questiongroup_assigned_to_user\"]\n",
      "(Background on this error at: http://sqlalche.me/e/13/f405)\n",
      "Error accessing table path_plansnotification: (psycopg2.errors.InsufficientPrivilege) permission denied for table path_plansnotification\n",
      "\n",
      "[SQL: SELECT * FROM \"path_plansnotification\"]\n",
      "(Background on this error at: http://sqlalche.me/e/13/f405)\n",
      "Error accessing table questionnaire_questionnotification: (psycopg2.errors.InsufficientPrivilege) permission denied for table questionnaire_questionnotification\n",
      "\n",
      "[SQL: SELECT * FROM \"questionnaire_questionnotification\"]\n",
      "(Background on this error at: http://sqlalche.me/e/13/f405)\n",
      "Error accessing table organization_admin_questiongroup: (psycopg2.errors.InsufficientPrivilege) permission denied for table organization_admin_questiongroup\n",
      "\n",
      "[SQL: SELECT * FROM \"organization_admin_questiongroup\"]\n",
      "(Background on this error at: http://sqlalche.me/e/13/f405)\n",
      "dict_keys(['django', 'auth', 'account', 'feedback', 'path', 'questionnaire', 'organization'])\n"
     ]
    }
   ],
   "source": [
    "# Get table information\n",
    "table_names = inspector.get_table_names(schema='public')\n",
    "df_dict = {}\n",
    "for table_name in table_names:\n",
    "    try:\n",
    "        parts = table_name.split('_')\n",
    "        key = parts[0]\n",
    "        if key not in df_dict:\n",
    "            df_dict[key] = {}\n",
    "        df_name = '_'.join(parts[1:])\n",
    "        query = f'SELECT * FROM \"{table_name}\"'  # Use double quotes around table name\n",
    "        df_dict[key][df_name] = pd.read_sql(query, con=db)\n",
    "    except Exception as e:\n",
    "        print(f\"Error accessing table {table_name}: {str(e)}\")\n",
    "\n",
    "print(df_dict.keys())\n"
   ]
  },
  {
   "cell_type": "code",
   "execution_count": 30,
   "metadata": {},
   "outputs": [
    {
     "name": "stderr",
     "output_type": "stream",
     "text": [
      "Exception during reset or similar\n",
      "Traceback (most recent call last):\n",
      "  File \"/Users/killianbrait/miniconda3/lib/python3.9/site-packages/sqlalchemy/pool/base.py\", line 697, in _finalize_fairy\n",
      "    fairy._reset(pool)\n",
      "  File \"/Users/killianbrait/miniconda3/lib/python3.9/site-packages/sqlalchemy/pool/base.py\", line 893, in _reset\n",
      "    pool._dialect.do_rollback(self)\n",
      "  File \"/Users/killianbrait/miniconda3/lib/python3.9/site-packages/sqlalchemy/engine/default.py\", line 558, in do_rollback\n",
      "    dbapi_connection.rollback()\n",
      "psycopg2.OperationalError: server closed the connection unexpectedly\n",
      "\tThis probably means the server terminated abnormally\n",
      "\tbefore or while processing the request.\n",
      "server closed the connection unexpectedly\n",
      "\tThis probably means the server terminated abnormally\n",
      "\tbefore or while processing the request.\n",
      "\n"
     ]
    },
    {
     "name": "stdout",
     "output_type": "stream",
     "text": [
      "User: read_only\n"
     ]
    }
   ],
   "source": [
    "result = db.execute(\"SELECT current_user;\")\n",
    "for row in result:\n",
    "    print(\"User:\", row[0])\n",
    "\n",
    "result = db.execute(\"SELECT table_name, privilege_type FROM information_schema.role_table_grants WHERE grantee=current_user;\")\n",
    "for row in result:\n",
    "    print(\"Table:\", row[0], \"Privilege:\", row[1])\n"
   ]
  },
  {
   "cell_type": "markdown",
   "metadata": {},
   "source": [
    "**Idea:** What if we could use the model to predict the top 5 plans for each newly registered user? What if we only show the user those 5 plans for their first 24 hours in the app. We ask them to do one of the plans and we show something happening. We connect the questionnaire directly to these five plans. I.e. what if when the user gets the questionnaire results applied to their plans, the plans shrink and fall away, leaving only a few that are then able to be completed and the user is able to log basic feedback on how the plan went. This can be used in a feedback loop to train the machine learning. We need to make this process fun and exciting.\n",
    "\n",
    "Something like what this Juypter notebook will show."
   ]
  }
 ],
 "metadata": {
  "kernelspec": {
   "display_name": "base",
   "language": "python",
   "name": "python3"
  },
  "language_info": {
   "codemirror_mode": {
    "name": "ipython",
    "version": 3
   },
   "file_extension": ".py",
   "mimetype": "text/x-python",
   "name": "python",
   "nbconvert_exporter": "python",
   "pygments_lexer": "ipython3",
   "version": "3.9.12"
  },
  "orig_nbformat": 4
 },
 "nbformat": 4,
 "nbformat_minor": 2
}
